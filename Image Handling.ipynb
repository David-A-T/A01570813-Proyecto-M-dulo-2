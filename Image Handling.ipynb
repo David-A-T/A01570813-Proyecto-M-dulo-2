{
 "cells": [
  {
   "cell_type": "markdown",
   "metadata": {},
   "source": [
    "### Data Segmentation"
   ]
  },
  {
   "cell_type": "code",
   "execution_count": 9,
   "metadata": {},
   "outputs": [],
   "source": [
    "import os\n",
    "import random\n",
    "import shutil"
   ]
  },
  {
   "cell_type": "code",
   "execution_count": 13,
   "metadata": {},
   "outputs": [],
   "source": [
    "def move_random_files(src_dir, src_dir2, dest_dir, dest_dir2, k):\n",
    "    # Get a list of all files in the source directory\n",
    "    all_files = [f for f in os.listdir(src_dir) if os.path.isfile(os.path.join(src_dir, f))]\n",
    "    \n",
    "    # If k is larger than the number of files, adjust k to the total number of files\n",
    "    k = min(k, len(all_files))\n",
    "    \n",
    "    # Select k random files\n",
    "    selected_files = random.sample(all_files, k)\n",
    "    \n",
    "    # Move each selected file to the destination directory\n",
    "    for file_name in selected_files:\n",
    "        src_path = os.path.join(src_dir, file_name)\n",
    "        dest_path = os.path.join(dest_dir, file_name)\n",
    "        shutil.move(src_path, dest_path)\n",
    "        src_path = os.path.join(src_dir2, file_name.replace('.png', '.txt'))\n",
    "        dest_path = os.path.join(dest_dir2, file_name.replace('.png', '.txt'))\n",
    "        shutil.move(src_path, dest_path)"
   ]
  },
  {
   "cell_type": "code",
   "execution_count": 14,
   "metadata": {},
   "outputs": [],
   "source": [
    "k = 150  # Number of files to move\n",
    "\n",
    "move_random_files(r'datasets\\train\\images', r'datasets\\train\\labels', r'Augmented_Images\\YOLO', r'Augmented_Images\\YOLO', k)"
   ]
  },
  {
   "cell_type": "markdown",
   "metadata": {},
   "source": [
    "### YOLO FORMATING"
   ]
  },
  {
   "cell_type": "code",
   "execution_count": 5,
   "metadata": {},
   "outputs": [],
   "source": [
    "import xml.etree.ElementTree as ET # .XML parsing\n",
    "import cv2 # Image processsing\n",
    "import numpy as np\n",
    "import os"
   ]
  },
  {
   "cell_type": "code",
   "execution_count": 21,
   "metadata": {},
   "outputs": [],
   "source": [
    "# FUNCTION | LOAD IMAGES AND ANNOTATIONS #\n",
    "def format_data_yolo(image_folder, annotation_folder, resized_image_folder, yolo_annotation_path, target_size=(224, 224)):\n",
    "\n",
    "    # Iterate: Over all images\n",
    "    for filename in os.listdir(image_folder):\n",
    "        # Load image\n",
    "        img_path = os.path.join(image_folder, filename)\n",
    "        img = cv2.imread(img_path)\n",
    "\n",
    "        original_height, original_width = img.shape[:2]  # Image original dimensions\n",
    "        img_resized = cv2.resize(img, target_size)  # Resize the image\n",
    "\n",
    "        # Save the resized image\n",
    "        resized_img_path = os.path.join(resized_image_folder, filename)\n",
    "        cv2.imwrite(resized_img_path, img_resized)\n",
    "        \n",
    "        # Load annotations\n",
    "        annotation_file = os.path.join(annotation_folder, filename.replace('.png', '.xml'))\n",
    "        tree = ET.parse(annotation_file)\n",
    "        root = tree.getroot()\n",
    "\n",
    "        height, width, _ = img_resized.shape\n",
    "        yolo_annotations = []\n",
    "\n",
    "        # Extract plate vertex coordinates\n",
    "        for obj in root.findall('object'):\n",
    "            bndbox = obj.find('bndbox')\n",
    "            xmin = int(bndbox.find('xmin').text)\n",
    "            ymin = int(bndbox.find('ymin').text)\n",
    "            xmax = int(bndbox.find('xmax').text)\n",
    "            ymax = int(bndbox.find('ymax').text)\n",
    "\n",
    "            # Resize the coordinates\n",
    "            xmin = int(xmin * target_size[0] / original_width)\n",
    "            ymin = int(ymin * target_size[1] / original_height)\n",
    "            xmax = int(xmax * target_size[0] / original_width)\n",
    "            ymax = int(ymax * target_size[1] / original_height)\n",
    "\n",
    "            # Convert to YOLO format\n",
    "            x_center = ((xmin + xmax) / 2) / width\n",
    "            y_center = ((ymin + ymax) / 2) / height\n",
    "            box_width = (xmax - xmin) / width\n",
    "            box_height = (ymax - ymin) / height\n",
    "\n",
    "            # Assume a single class (car plate = 0)\n",
    "            yolo_text = f\"0 {x_center} {y_center} {box_width} {box_height}\"\n",
    "\n",
    "            if os.path.isfile(f'{yolo_annotation_path}\\\\{filename.replace(\".png\", \".xml\")}'):\n",
    "                os.remove(f'{yolo_annotation_path}\\\\{filename.replace(\".png\", \".xml\")}')\n",
    "            yolo_annotations.append(yolo_text)\n",
    "            with open(f'{yolo_annotation_path}\\\\{filename.replace(\".png\", \".txt\")}', \"w\") as f:\n",
    "                f.write(yolo_text)"
   ]
  },
  {
   "cell_type": "code",
   "execution_count": 25,
   "metadata": {},
   "outputs": [],
   "source": [
    "image_folder = r'datasets\\train\\images'\n",
    "annotation_folder = r'datasets\\train\\labels'\n",
    "resized_image_folder = r'datasets\\train\\images'\n",
    "yolo_annotation_foledr = r'datasets\\train\\labels'\n",
    "format_data_yolo(image_folder, annotation_folder, resized_image_folder, yolo_annotation_foledr)"
   ]
  },
  {
   "cell_type": "markdown",
   "metadata": {},
   "source": [
    "### Data Augmentation"
   ]
  },
  {
   "cell_type": "code",
   "execution_count": 1,
   "metadata": {},
   "outputs": [],
   "source": [
    "import os\n",
    "import random\n",
    "import numpy as np\n",
    "from PIL import Image, ImageEnhance\n",
    "import shutil\n",
    "from lxml import etree\n"
   ]
  },
  {
   "cell_type": "code",
   "execution_count": null,
   "metadata": {},
   "outputs": [],
   "source": [
    "# FUNCTION | ADD RANDOM NOISE #\n",
    "def add_random_noise(image):\n",
    "    np_image = np.array(image)\n",
    "    noise = np.random.normal(0, 25, np_image.shape)\n",
    "    noisy_image = np_image + noise\n",
    "    noisy_image = np.clip(noisy_image, 0, 255)\n",
    "    return Image.fromarray(np.uint8(noisy_image))"
   ]
  },
  {
   "cell_type": "code",
   "execution_count": null,
   "metadata": {},
   "outputs": [],
   "source": [
    "# FUNCTION | ADD RANDOM COLOR JITTERING #\n",
    "def apply_color_jitter(image):\n",
    "    # Brightness\n",
    "    enhancer = ImageEnhance.Brightness(image)\n",
    "    image = enhancer.enhance(random.uniform(0.5, 1.5)) \n",
    "\n",
    "    # Contrast\n",
    "    enhancer = ImageEnhance.Contrast(image)\n",
    "    image = enhancer.enhance(random.uniform(0.5, 1.5))\n",
    "\n",
    "    # Saturation\n",
    "    enhancer = ImageEnhance.Color(image)\n",
    "    image = enhancer.enhance(random.uniform(0.5, 1.5))\n",
    "\n",
    "    return image\n"
   ]
  },
  {
   "cell_type": "code",
   "execution_count": 18,
   "metadata": {},
   "outputs": [],
   "source": [
    "# FUNCTION | AUGMENT AND SAVE IMAGE #\n",
    "def augment_images(input_dir, output_dir, num_augments=5):\n",
    "\n",
    "    image_files = [f for f in os.listdir(input_dir) if f.endswith(\".png\")]\n",
    "\n",
    "    # Iterate: Over Images\n",
    "    for image_file in image_files:\n",
    "        # Base name\n",
    "        base_name = os.path.splitext(image_file)[0]\n",
    "\n",
    "        # Load the image\n",
    "        image = Image.open(os.path.join(input_dir, image_file))\n",
    "\n",
    "        # Randomly decide wether to augment image\n",
    "        save = False\n",
    "        if random.random() < 0.5:  # 50% / 50%\n",
    "            augmented_image = add_random_noise(image)\n",
    "            save = True\n",
    "            if random.random() < 0.5:  # 50% / 50%\n",
    "                augmented_image = apply_color_jitter(augmented_image)\n",
    "        elif random.random() < 0.5:\n",
    "            augmented_image = apply_color_jitter(image)\n",
    "            save = True\n",
    "        # Save augemented image\n",
    "        if save:\n",
    "            augmented_image.save(os.path.join(output_dir, f\"{base_name}_augmented.png\"))"
   ]
  },
  {
   "cell_type": "code",
   "execution_count": 20,
   "metadata": {},
   "outputs": [],
   "source": [
    "input_directory = r'Augmented_Images\\YOLO'\n",
    "output_directory = r'Augmented_Images\\YOLO\\Augemented'\n",
    "\n",
    "augment_images(input_directory, output_directory)\n"
   ]
  },
  {
   "cell_type": "code",
   "execution_count": 35,
   "metadata": {},
   "outputs": [],
   "source": [
    "def get_png_filenames(directory):\n",
    "    # List all files\n",
    "    files = os.listdir(directory)\n",
    "    \n",
    "    # Keep .png files and remove extension and _augmented\n",
    "    png_files = [os.path.splitext(f)[0].replace('_augmented', '') for f in files if f.endswith('.png')]\n",
    "    \n",
    "    return png_files"
   ]
  },
  {
   "cell_type": "code",
   "execution_count": 36,
   "metadata": {},
   "outputs": [],
   "source": [
    "control_directory = r'Augmented_Images\\Control\\Augemented'\n",
    "control_agumented_filenames = get_png_filenames(control_directory)\n",
    "\n",
    "YOLO_directory = 'Augmented_Images\\YOLO\\Augemented'\n",
    "YOLO_agumented_filenames = get_png_filenames(YOLO_directory)"
   ]
  },
  {
   "cell_type": "code",
   "execution_count": 37,
   "metadata": {},
   "outputs": [],
   "source": [
    "for filename in control_agumented_filenames:\n",
    "    shutil.copy(f'control\\\\train-valid\\\\labels\\\\{filename}.xml', f'Augmented_Images\\\\Control\\\\Labels\\\\{filename}_augmented.xml')"
   ]
  },
  {
   "cell_type": "code",
   "execution_count": 38,
   "metadata": {},
   "outputs": [],
   "source": [
    "for filename in YOLO_agumented_filenames:\n",
    "    shutil.copy(f'datasets\\\\train\\\\labels\\\\{filename}.txt', f'Augmented_Images\\\\YOLO\\\\Labels\\\\{filename}_augmented.txt')"
   ]
  }
 ],
 "metadata": {
  "kernelspec": {
   "display_name": "Python 3",
   "language": "python",
   "name": "python3"
  },
  "language_info": {
   "codemirror_mode": {
    "name": "ipython",
    "version": 3
   },
   "file_extension": ".py",
   "mimetype": "text/x-python",
   "name": "python",
   "nbconvert_exporter": "python",
   "pygments_lexer": "ipython3",
   "version": "3.11.2"
  }
 },
 "nbformat": 4,
 "nbformat_minor": 2
}
